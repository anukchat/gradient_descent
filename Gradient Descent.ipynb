{
 "cells": [
  {
   "cell_type": "markdown",
   "metadata": {},
   "source": [
    "## Gradient Descent Implementation\n",
    "\n",
    "### Step 1: Generate Data"
   ]
  },
  {
   "cell_type": "code",
   "execution_count": 117,
   "metadata": {},
   "outputs": [],
   "source": [
    "import numpy as np\n",
    "import matplotlib.pyplot as plt\n",
    "\n",
    "X=2*np.random.rand(100,1)\n",
    "y=4+3*X+np.random.randn(100,1)\n",
    "# y= 4+3*X"
   ]
  },
  {
   "cell_type": "code",
   "execution_count": 118,
   "metadata": {},
   "outputs": [
    {
     "data": {
      "image/png": "[encoded data removed]",
      "text/plain": [
       "<Figure size 432x288 with 1 Axes>"
      ]
     },
     "metadata": {
      "needs_background": "light"
     },
     "output_type": "display_data"
    }
   ],
   "source": [
    "plt.figure()\n",
    "plt.xlabel(\"X\")\n",
    "plt.ylabel(\"y\")\n",
    "# plt.plot(X,y,'ro')\n",
    "plt.scatter(X,y)\n",
    "plt.show()"
   ]
  },
  {
   "cell_type": "code",
   "execution_count": 119,
   "metadata": {},
   "outputs": [],
   "source": [
    "# Training Set --> Learning Algorithm --> Hypothesis\n",
    "# Hypothesis maps from xs to ys\n",
    "# How we represent h Ex: Linear Regression with 1 variable (Univariate)\n",
    "# h_theta(x)=theta0 + theta1*X\n",
    "\n",
    "#Cost Function\n",
    "# In our case we have defined: Xs and Ys\n",
    "# Hypothesis: h_theta(x)=theta0 + theta1*X\n",
    "# Thetas: learnable parameters\n"
   ]
  },
  {
   "cell_type": "code",
   "execution_count": 120,
   "metadata": {},
   "outputs": [
    {
     "data": {
      "image/png": "[encoded data removed]",
      "text/plain": [
       "<Figure size 432x288 with 1 Axes>"
      ]
     },
     "metadata": {
      "needs_background": "light"
     },
     "output_type": "display_data"
    }
   ],
   "source": [
    "# Vary values of w0 and w1 to manually see the blue line getting closer to red.\n",
    "H=w0+w1*X\n",
    "\n",
    "w0=0\n",
    "w1=5\n",
    "plt.plot(X,y,'ro',X,H,'bo')\n",
    "plt.show()"
   ]
  },
  {
   "cell_type": "code",
   "execution_count": 121,
   "metadata": {},
   "outputs": [],
   "source": [
    "# Idea: Chose w0 and w1 so that H is sclose to y for our training examples(X,y)\n",
    "# minimize (1/2m)*Sum((H-y)^2) from 1 to m (Number of training examples)\n",
    "# minimize average of square of difference of hypothesis and y\n",
    "# Why square difference , we can take mod as well but differentiation of mod is noit defined at 0"
   ]
  },
  {
   "cell_type": "code",
   "execution_count": 122,
   "metadata": {},
   "outputs": [],
   "source": [
    "\n",
    "def linear_model(X,w0,w1):\n",
    "    return (w0+w1*X)\n",
    "\n",
    "def cost_function(X,w0,w1,y,m):\n",
    "    return (1/(2*m))*sum((linear_model(X,w0,w1)-y)**2)\n",
    "\n",
    "def gradient_w0(X,w0,w1,y,m):\n",
    "    return (1/m)*sum(linear_model(X,w0,w1)-y)\n",
    "\n",
    "def gradient_w1(X,w0,w1,y,m):\n",
    "    return (1/m)*sum((linear_model(X,w0,w1)-y)*X)"
   ]
  },
  {
   "cell_type": "code",
   "execution_count": 123,
   "metadata": {},
   "outputs": [
    {
     "name": "stdout",
     "output_type": "stream",
     "text": [
      "Epoch: 0, Cost: [18.2871499]\n",
      "Epoch: 1, Cost: [17.66966594]\n",
      "Epoch: 2, Cost: [17.07385673]\n",
      "Epoch: 3, Cost: [16.49896065]\n",
      "Epoch: 4, Cost: [15.94424286]\n",
      "Epoch: 5, Cost: [15.40899432]\n",
      "Epoch: 6, Cost: [14.89253094]\n",
      "Epoch: 7, Cost: [14.39419265]\n",
      "Epoch: 8, Cost: [13.91334256]\n",
      "Epoch: 9, Cost: [13.44936619]\n",
      "Epoch: 10, Cost: [13.00167064]\n",
      "Epoch: 11, Cost: [12.56968384]\n",
      "Epoch: 12, Cost: [12.15285383]\n",
      "Epoch: 13, Cost: [11.75064805]\n",
      "Epoch: 14, Cost: [11.36255265]\n",
      "Epoch: 15, Cost: [10.98807183]\n",
      "Epoch: 16, Cost: [10.62672722]\n",
      "Epoch: 17, Cost: [10.27805727]\n",
      "Epoch: 18, Cost: [9.94161663]\n",
      "Epoch: 19, Cost: [9.61697561]\n",
      "Epoch: 20, Cost: [9.30371963]\n",
      "Epoch: 21, Cost: [9.00144865]\n",
      "Epoch: 22, Cost: [8.70977671]\n",
      "Epoch: 23, Cost: [8.42833142]\n",
      "Epoch: 24, Cost: [8.15675345]\n",
      "Epoch: 25, Cost: [7.89469612]\n",
      "Epoch: 26, Cost: [7.64182492]\n",
      "Epoch: 27, Cost: [7.3978171]\n",
      "Epoch: 28, Cost: [7.16236125]\n",
      "Epoch: 29, Cost: [6.9351569]\n",
      "Epoch: 30, Cost: [6.71591415]\n",
      "Epoch: 31, Cost: [6.50435328]\n",
      "Epoch: 32, Cost: [6.30020439]\n",
      "Epoch: 33, Cost: [6.10320708]\n",
      "Epoch: 34, Cost: [5.9131101]\n",
      "Epoch: 35, Cost: [5.72967101]\n",
      "Epoch: 36, Cost: [5.55265591]\n",
      "Epoch: 37, Cost: [5.38183911]\n",
      "Epoch: 38, Cost: [5.21700285]\n",
      "Epoch: 39, Cost: [5.05793704]\n",
      "Epoch: 40, Cost: [4.90443894]\n",
      "Epoch: 41, Cost: [4.75631296]\n",
      "Epoch: 42, Cost: [4.61337038]\n",
      "Epoch: 43, Cost: [4.47542909]\n",
      "Epoch: 44, Cost: [4.34231342]\n",
      "Epoch: 45, Cost: [4.21385383]\n",
      "Epoch: 46, Cost: [4.08988677]\n",
      "Epoch: 47, Cost: [3.97025442]\n",
      "Epoch: 48, Cost: [3.8548045]\n",
      "Epoch: 49, Cost: [3.74339011]\n",
      "Epoch: 50, Cost: [3.63586948]\n",
      "Epoch: 51, Cost: [3.53210584]\n",
      "Epoch: 52, Cost: [3.43196722]\n",
      "Epoch: 53, Cost: [3.33532629]\n",
      "Epoch: 54, Cost: [3.24206019]\n",
      "Epoch: 55, Cost: [3.15205039]\n",
      "Epoch: 56, Cost: [3.0651825]\n",
      "Epoch: 57, Cost: [2.98134618]\n",
      "Epoch: 58, Cost: [2.90043495]\n",
      "Epoch: 59, Cost: [2.82234606]\n",
      "Epoch: 60, Cost: [2.7469804]\n",
      "Epoch: 61, Cost: [2.67424233]\n",
      "Epoch: 62, Cost: [2.60403956]\n",
      "Epoch: 63, Cost: [2.53628305]\n",
      "Epoch: 64, Cost: [2.47088689]\n",
      "Epoch: 65, Cost: [2.40776819]\n",
      "Epoch: 66, Cost: [2.34684698]\n",
      "Epoch: 67, Cost: [2.28804609]\n",
      "Epoch: 68, Cost: [2.23129105]\n",
      "Epoch: 69, Cost: [2.17651003]\n",
      "Epoch: 70, Cost: [2.12363372]\n",
      "Epoch: 71, Cost: [2.07259523]\n",
      "Epoch: 72, Cost: [2.02333004]\n",
      "Epoch: 73, Cost: [1.97577588]\n",
      "Epoch: 74, Cost: [1.92987267]\n",
      "Epoch: 75, Cost: [1.88556246]\n",
      "Epoch: 76, Cost: [1.84278932]\n",
      "Epoch: 77, Cost: [1.80149928]\n",
      "Epoch: 78, Cost: [1.76164028]\n",
      "Epoch: 79, Cost: [1.72316209]\n",
      "Epoch: 80, Cost: [1.68601623]\n",
      "Epoch: 81, Cost: [1.65015594]\n",
      "Epoch: 82, Cost: [1.61553608]\n",
      "Epoch: 83, Cost: [1.58211314]\n",
      "Epoch: 84, Cost: [1.54984508]\n",
      "Epoch: 85, Cost: [1.51869139]\n",
      "Epoch: 86, Cost: [1.48861295]\n",
      "Epoch: 87, Cost: [1.45957203]\n",
      "Epoch: 88, Cost: [1.43153223]\n",
      "Epoch: 89, Cost: [1.4044584]\n",
      "Epoch: 90, Cost: [1.37831666]\n",
      "Epoch: 91, Cost: [1.35307431]\n",
      "Epoch: 92, Cost: [1.32869978]\n",
      "Epoch: 93, Cost: [1.30516264]\n",
      "Epoch: 94, Cost: [1.2824335]\n",
      "Epoch: 95, Cost: [1.26048403]\n",
      "Epoch: 96, Cost: [1.23928687]\n",
      "Epoch: 97, Cost: [1.21881564]\n",
      "Epoch: 98, Cost: [1.19904487]\n",
      "Epoch: 99, Cost: [1.17995001]\n",
      "Epoch: 100, Cost: [1.16150735]\n",
      "Epoch: 101, Cost: [1.14369402]\n",
      "Epoch: 102, Cost: [1.12648795]\n",
      "Epoch: 103, Cost: [1.10986785]\n",
      "Epoch: 104, Cost: [1.09381319]\n",
      "Epoch: 105, Cost: [1.07830414]\n",
      "Epoch: 106, Cost: [1.06332157]\n",
      "Epoch: 107, Cost: [1.04884704]\n",
      "Epoch: 108, Cost: [1.03486274]\n",
      "Epoch: 109, Cost: [1.02135148]\n",
      "Epoch: 110, Cost: [1.0082967]\n",
      "Epoch: 111, Cost: [0.99568241]\n",
      "Epoch: 112, Cost: [0.98349316]\n",
      "Epoch: 113, Cost: [0.97171408]\n",
      "Epoch: 114, Cost: [0.96033079]\n",
      "Epoch: 115, Cost: [0.94932944]\n",
      "Epoch: 116, Cost: [0.93869666]\n",
      "Epoch: 117, Cost: [0.92841953]\n",
      "Epoch: 118, Cost: [0.9184856]\n",
      "Epoch: 119, Cost: [0.90888287]\n",
      "Epoch: 120, Cost: [0.89959975]\n",
      "Epoch: 121, Cost: [0.89062504]\n",
      "Epoch: 122, Cost: [0.88194795]\n",
      "Epoch: 123, Cost: [0.87355809]\n",
      "Epoch: 124, Cost: [0.86544539]\n",
      "Epoch: 125, Cost: [0.85760016]\n",
      "Epoch: 126, Cost: [0.85001305]\n",
      "Epoch: 127, Cost: [0.84267505]\n",
      "Epoch: 128, Cost: [0.83557743]\n",
      "Epoch: 129, Cost: [0.8287118]\n",
      "Epoch: 130, Cost: [0.82207005]\n",
      "Epoch: 131, Cost: [0.81564437]\n",
      "Epoch: 132, Cost: [0.80942719]\n",
      "Epoch: 133, Cost: [0.80341125]\n",
      "Epoch: 134, Cost: [0.79758951]\n",
      "Epoch: 135, Cost: [0.7919552]\n",
      "Epoch: 136, Cost: [0.78650177]\n",
      "Epoch: 137, Cost: [0.78122292]\n",
      "Epoch: 138, Cost: [0.77611255]\n",
      "Epoch: 139, Cost: [0.77116479]\n",
      "Epoch: 140, Cost: [0.76637396]\n",
      "Epoch: 141, Cost: [0.76173461]\n",
      "Epoch: 142, Cost: [0.75724144]\n",
      "Epoch: 143, Cost: [0.75288937]\n",
      "Epoch: 144, Cost: [0.74867348]\n",
      "Epoch: 145, Cost: [0.74458904]\n",
      "Epoch: 146, Cost: [0.74063146]\n",
      "Epoch: 147, Cost: [0.73679633]\n",
      "Epoch: 148, Cost: [0.73307939]\n",
      "Epoch: 149, Cost: [0.72947654]\n",
      "Epoch: 150, Cost: [0.7259838]\n",
      "Epoch: 151, Cost: [0.72259736]\n",
      "Epoch: 152, Cost: [0.71931351]\n",
      "Epoch: 153, Cost: [0.71612871]\n",
      "Epoch: 154, Cost: [0.7130395]\n",
      "Epoch: 155, Cost: [0.71004257]\n",
      "Epoch: 156, Cost: [0.70713473]\n",
      "Epoch: 157, Cost: [0.70431288]\n",
      "Epoch: 158, Cost: [0.70157405]\n",
      "Epoch: 159, Cost: [0.69891536]\n",
      "Epoch: 160, Cost: [0.69633404]\n",
      "Epoch: 161, Cost: [0.69382741]\n",
      "Epoch: 162, Cost: [0.69139289]\n",
      "Epoch: 163, Cost: [0.68902798]\n",
      "Epoch: 164, Cost: [0.68673029]\n",
      "Epoch: 165, Cost: [0.68449749]\n",
      "Epoch: 166, Cost: [0.68232734]\n",
      "Epoch: 167, Cost: [0.68021769]\n",
      "Epoch: 168, Cost: [0.67816645]\n",
      "Epoch: 169, Cost: [0.6761716]\n",
      "Epoch: 170, Cost: [0.67423121]\n",
      "Epoch: 171, Cost: [0.67234341]\n",
      "Epoch: 172, Cost: [0.67050638]\n",
      "Epoch: 173, Cost: [0.66871839]\n",
      "Epoch: 174, Cost: [0.66697775]\n",
      "Epoch: 175, Cost: [0.66528284]\n",
      "Epoch: 176, Cost: [0.66363209]\n",
      "Epoch: 177, Cost: [0.662024]\n",
      "Epoch: 178, Cost: [0.6604571]\n",
      "Epoch: 179, Cost: [0.65892998]\n",
      "Epoch: 180, Cost: [0.65744129]\n",
      "Epoch: 181, Cost: [0.65598972]\n",
      "Epoch: 182, Cost: [0.65457401]\n",
      "Epoch: 183, Cost: [0.65319292]\n",
      "Epoch: 184, Cost: [0.6518453]\n",
      "Epoch: 185, Cost: [0.65052999]\n",
      "Epoch: 186, Cost: [0.64924591]\n",
      "Epoch: 187, Cost: [0.64799199]\n",
      "Epoch: 188, Cost: [0.64676722]\n",
      "Epoch: 189, Cost: [0.64557061]\n",
      "Epoch: 190, Cost: [0.64440121]\n",
      "Epoch: 191, Cost: [0.64325811]\n",
      "Epoch: 192, Cost: [0.64214041]\n",
      "Epoch: 193, Cost: [0.64104727]\n",
      "Epoch: 194, Cost: [0.63997785]\n",
      "Epoch: 195, Cost: [0.63893137]\n",
      "Epoch: 196, Cost: [0.63790706]\n",
      "Epoch: 197, Cost: [0.63690418]\n",
      "Epoch: 198, Cost: [0.63592201]\n",
      "Epoch: 199, Cost: [0.63495986]\n",
      "Weight w0: [2.80046876], w1: [3.70365928]\n"
     ]
    }
   ],
   "source": [
    "epoch=200\n",
    "w0=0\n",
    "w1=1\n",
    "alpha=0.008\n",
    "m=100\n",
    "cost=[]\n",
    "weight0=[]\n",
    "weight1=[]\n",
    "for i in range(epoch):\n",
    "    #Step 1 Calculate Cost\n",
    "    J=cost_function(X,w0,w1,y,m)\n",
    "    cost.append(J)\n",
    "    print(\"Epoch: {0}, Cost: {1}\".format(i,J))\n",
    "    # Step 2 Calculate and Update the weights\n",
    "    temp0=w0-alpha*gradient_w0(X,w0,w1,y,m)\n",
    "    temp1=w1-alpha*gradient_w1(X,w0,w1,y,m)\n",
    "    w0=temp0\n",
    "    w1=temp1\n",
    "    weight0.append(w0)\n",
    "    weight1.append(w1)\n",
    "\n",
    "print(\"Weight w0: {0}, w1: {1}\".format(w0,w1))"
   ]
  },
  {
   "cell_type": "markdown",
   "metadata": {},
   "source": [
    "Seeing above we see: w0: 2.80046876 and w1: 3.70365928, which reduces the cost to minimum of 0.63495986 with Epochs: 200, Learning rate alpha: 0.008.\n",
    "\n",
    "Vary different values of alpha, wo,w1 initial values and epochs and see the results"
   ]
  },
  {
   "cell_type": "code",
   "execution_count": 125,
   "metadata": {},
   "outputs": [
    {
     "data": {
      "image/png": "[encoded data removed]",
      "text/plain": [
       "<Figure size 432x288 with 1 Axes>"
      ]
     },
     "metadata": {
      "needs_background": "light"
     },
     "output_type": "display_data"
    }
   ],
   "source": [
    "plt.plot(X,y,'ro',X,linear_model(X,w0,w1),'bo')\n",
    "plt.show()"
   ]
  },
  {
   "cell_type": "code",
   "execution_count": 126,
   "metadata": {},
   "outputs": [
    {
     "data": {
      "image/png": "[encoded data removed]",
      "text/plain": [
       "<Figure size 432x288 with 1 Axes>"
      ]
     },
     "metadata": {
      "needs_background": "light"
     },
     "output_type": "display_data"
    }
   ],
   "source": [
    "plt.plot(weight0,cost,'r',weight1,cost,'b')\n",
    "plt.show()"
   ]
  },
  {
   "cell_type": "code",
   "execution_count": null,
   "metadata": {},
   "outputs": [],
   "source": []
  }
 ],
 "metadata": {
  "kernelspec": {
   "display_name": "Python 3",
   "language": "python",
   "name": "python3"
  },
  "language_info": {
   "codemirror_mode": {
    "name": "ipython",
    "version": 3
   },
   "file_extension": ".py",
   "mimetype": "text/x-python",
   "name": "python",
   "nbconvert_exporter": "python",
   "pygments_lexer": "ipython3",
   "version": "3.8.5"
  }
 },
 "nbformat": 4,
 "nbformat_minor": 4
}
